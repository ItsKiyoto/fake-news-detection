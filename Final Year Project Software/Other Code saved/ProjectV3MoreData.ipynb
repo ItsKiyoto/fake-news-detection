{
 "cells": [
  {
   "cell_type": "code",
   "execution_count": 2,
   "id": "bd7b66b3-5f36-4ee7-aa2d-1e30995f3cfd",
   "metadata": {
    "tags": []
   },
   "outputs": [],
   "source": [
    "from pandas import read_csv\n",
    "import matplotlib.pyplot as plt\n",
    "import seaborn as sns; sns.set()\n",
    "import numpy as np\n",
    "from sklearn.feature_extraction.text import CountVectorizer\n",
    "from sklearn.feature_extraction.text import TfidfTransformer\n",
    "from sklearn.pipeline import Pipeline\n",
    "\n",
    "from sklearn.naive_bayes import MultinomialNB\n",
    "from sklearn.naive_bayes import BernoulliNB\n",
    "from sklearn.metrics import classification_report, confusion_matrix\n",
    "from sklearn.svm import SVC\n",
    "from sklearn.linear_model import SGDClassifier\n",
    "from sklearn.model_selection import GridSearchCV\n",
    "from sklearn.model_selection import train_test_split\n",
    "from sklearn.model_selection import KFold\n",
    "from sklearn.model_selection import cross_val_score\n",
    "from sklearn.tree import DecisionTreeClassifier\n",
    "from sklearn.ensemble import RandomForestClassifier\n",
    "\n",
    "from sklearn.feature_extraction.text import TfidfVectorizer\n",
    "from sklearn.ensemble import GradientBoostingClassifier"
   ]
  },
  {
   "cell_type": "code",
   "execution_count": 13,
   "id": "f74ea3e4-f0b8-43dc-bf64-62d3556f13c4",
   "metadata": {
    "tags": []
   },
   "outputs": [
    {
     "name": "stdout",
     "output_type": "stream",
     "text": [
      "(8057, 8)\n"
     ]
    }
   ],
   "source": [
    "def datasetPrep(dataset):\n",
    "    #pulls data from csv\n",
    "    df = read_csv(dataset, header=None)\n",
    "    \n",
    "    #add labels to all the columnns \n",
    "    df.columns = ['ID', \n",
    "                'Label',\n",
    "                'Statement',\n",
    "                'Subject',\n",
    "                'Speaker',\n",
    "                'Occupation',\n",
    "                'Location',\n",
    "                'Party',\n",
    "                'Barely True Counts',\n",
    "                'False Counts',\n",
    "                'Half True Counts',\n",
    "                'Mostly True Counts',\n",
    "                'Pants on Fire Counts',\n",
    "                'Context']\n",
    "    \n",
    "    #drops columns that are not helpful.\n",
    "    df = df.drop(['Location',\n",
    "                'Occupation',\n",
    "                'Barely True Counts',\n",
    "                'False Counts',\n",
    "                'Half True Counts',\n",
    "                'Mostly True Counts',\n",
    "                'Pants on Fire Counts'], axis=1)\n",
    "    \n",
    "    #drops rows that have been labeled \"half-true\"\n",
    "    df = df.drop(df[df['Label'] == 'half-true'].index)\n",
    "\n",
    "    #drops rows with information missing in columns\n",
    "    df = df.dropna()\n",
    "    \n",
    "    #drops rows with duplicates \n",
    "    df = df.drop_duplicates()  \n",
    "    \n",
    "    # combines all the different text information into one string.\n",
    "    df['Combined Data'] = df['Statement'] + '\\n' + df['Subject'] + '\\n' + df['Speaker'] + '\\n' + df['Party'] + '\\n' + df['Context']\n",
    "    \n",
    "    X = df['Combined Data']\n",
    "    \n",
    "    Y = df['Label']\n",
    "    \n",
    "    #X = X.astype(str)\n",
    "    Y = TwoClassConversion(Y)\n",
    "    print(df.shape)\n",
    "\n",
    "    return X, Y \n",
    "    \n",
    "x, y = datasetPrep(\"Dataset/Train csv_version.csv\")"
   ]
  },
  {
   "cell_type": "code",
   "execution_count": 14,
   "id": "95ae82d0-af94-4d8d-a663-e8ab5706e359",
   "metadata": {
    "tags": []
   },
   "outputs": [],
   "source": [
    "def TwoClassConversion(outputs):\n",
    "    outputs = outputs.replace([\"barely-true\",\"pants-fire\"], \"FALSE\")\n",
    "    outputs = outputs.replace([\"mostly-true\"], \"TRUE\")\n",
    "    return outputs"
   ]
  },
  {
   "cell_type": "code",
   "execution_count": 15,
   "id": "6d3f600e-2c62-4e8e-82f1-09c8b34638d7",
   "metadata": {
    "tags": []
   },
   "outputs": [],
   "source": [
    "def testModel(model, data, output):\n",
    "    predicted = model.predict(data)\n",
    "    print(classification_report(output, predicted))\n",
    "    labels = [\"False\", \"True\"]\n",
    "    conMat = confusion_matrix(output, predicted)\n",
    "    conHeatMap = sns.heatmap(conMat.T, square = True, annot = True, fmt = 'd', xticklabels = labels, yticklabels = labels)\n",
    "    plt.xlabel('True label')\n",
    "    plt.ylabel('Predicted label')\n",
    "    plt.show()"
   ]
  },
  {
   "cell_type": "code",
   "execution_count": 16,
   "id": "028a8554-7777-4aa5-9517-219f63464fc7",
   "metadata": {
    "tags": []
   },
   "outputs": [],
   "source": [
    "def featureVectorizing(x,xTest,xValid):\n",
    "   \n",
    "    # setup count vectorizer and tfidf transformer\n",
    "    count_vect = CountVectorizer()\n",
    "    tfTransformer = TfidfTransformer()\n",
    "    \n",
    "    # feature extraction of training set\n",
    "    xTrainCounts = count_vect.fit_transform(x)\n",
    "    xTrainTF = tfTransformer.fit_transform(xTrainCounts)\n",
    "    \n",
    "    # feature extraction of testing set\n",
    "    xTestCounts = count_vect.transform(xTest)\n",
    "    xTestTF = tfTransformer.transform(xTestCounts)\n",
    "    \n",
    "    # feature extraction of validation set\n",
    "    xValidCounts = count_vect.transform(xValid)\n",
    "    xValidTF = tfTransformer.transform(xValidCounts)\n",
    "    \n",
    "    # converting feature extracted data strucutures into arrays\n",
    "    xTrainTF = xTrainTF.toarray()\n",
    "    xTestTF = xTestTF.toarray()\n",
    "    xValidTF = xValidTF.toarray()\n",
    "    \n",
    "    return xTrainTF, xTestTF, xValidTF\n",
    "    "
   ]
  },
  {
   "cell_type": "code",
   "execution_count": 17,
   "id": "d673ea72-baa0-44f0-9ed1-1b30a38d917f",
   "metadata": {
    "tags": []
   },
   "outputs": [],
   "source": [
    "def multiNBModel(x,y):\n",
    "    nbClf = MultinomialNB().fit(x,y)\n",
    "    return nbClf"
   ]
  },
  {
   "cell_type": "code",
   "execution_count": 19,
   "id": "08603424-7438-4002-bced-027f4c789fc1",
   "metadata": {
    "tags": []
   },
   "outputs": [],
   "source": [
    "def svmModel(x,y):\n",
    "    svmClf = SGDClassifier(loss='hinge', penalty='l2',alpha=1e-3, random_state=42,max_iter=5, tol=None).fit(x,y)\n",
    "    return svmClf"
   ]
  },
  {
   "cell_type": "code",
   "execution_count": 20,
   "id": "87a21540-c81f-4184-a50a-42842f76b821",
   "metadata": {},
   "outputs": [],
   "source": [
    "def xgBoostModel(x,y):\n",
    "    xgBoostClf = GradientBoostingClassifier(n_estimators=100, learning_rate=1.0,max_depth=1, random_state=0).fit(x, y)\n",
    "    return xgBoostClf"
   ]
  },
  {
   "cell_type": "code",
   "execution_count": 21,
   "id": "d7d0e5db-66dd-470a-930b-420ab199eada",
   "metadata": {
    "tags": []
   },
   "outputs": [],
   "source": [
    "def svmSVCModel(x,y):\n",
    "    model = SVC().fit(x, y)\n",
    "    return model"
   ]
  },
  {
   "cell_type": "code",
   "execution_count": 22,
   "id": "11fd02db-fbf8-4501-a4b9-bc8fe01ad008",
   "metadata": {
    "tags": []
   },
   "outputs": [
    {
     "name": "stdout",
     "output_type": "stream",
     "text": [
      "(8057, 8)\n",
      "(1003, 8)\n",
      "(1025, 8)\n",
      "Multinomial Naive Bayes\n",
      "              precision    recall  f1-score   support\n",
      "\n",
      "       FALSE       0.63      0.85      0.73       552\n",
      "        TRUE       0.69      0.39      0.50       451\n",
      "\n",
      "    accuracy                           0.65      1003\n",
      "   macro avg       0.66      0.62      0.61      1003\n",
      "weighted avg       0.66      0.65      0.62      1003\n",
      "\n"
     ]
    },
    {
     "data": {
      "image/png": "[encoded data removed]",
      "text/plain": [
       "<Figure size 640x480 with 2 Axes>"
      ]
     },
     "metadata": {},
     "output_type": "display_data"
    },
    {
     "name": "stdout",
     "output_type": "stream",
     "text": [
      "\n",
      "Linear SVM\n",
      "              precision    recall  f1-score   support\n",
      "\n",
      "       FALSE       0.61      0.90      0.73       552\n",
      "        TRUE       0.71      0.28      0.41       451\n",
      "\n",
      "    accuracy                           0.63      1003\n",
      "   macro avg       0.66      0.59      0.57      1003\n",
      "weighted avg       0.65      0.63      0.58      1003\n",
      "\n"
     ]
    },
    {
     "data": {
      "image/png": "[encoded data removed]",
      "text/plain": [
       "<Figure size 640x480 with 2 Axes>"
      ]
     },
     "metadata": {},
     "output_type": "display_data"
    },
    {
     "name": "stdout",
     "output_type": "stream",
     "text": [
      "svcSVM model without pipeline\n",
      "              precision    recall  f1-score   support\n",
      "\n",
      "       FALSE       0.66      0.72      0.69       552\n",
      "        TRUE       0.61      0.54      0.57       451\n",
      "\n",
      "    accuracy                           0.64      1003\n",
      "   macro avg       0.63      0.63      0.63      1003\n",
      "weighted avg       0.64      0.64      0.64      1003\n",
      "\n"
     ]
    },
    {
     "data": {
      "image/png": "[encoded data removed]",
      "text/plain": [
       "<Figure size 640x480 with 2 Axes>"
      ]
     },
     "metadata": {},
     "output_type": "display_data"
    },
    {
     "name": "stdout",
     "output_type": "stream",
     "text": [
      "xgboost\n",
      "              precision    recall  f1-score   support\n",
      "\n",
      "       FALSE       0.65      0.72      0.68       552\n",
      "        TRUE       0.61      0.52      0.56       451\n",
      "\n",
      "    accuracy                           0.63      1003\n",
      "   macro avg       0.63      0.62      0.62      1003\n",
      "weighted avg       0.63      0.63      0.63      1003\n",
      "\n"
     ]
    },
    {
     "data": {
      "image/png": "[encoded data removed]",
      "text/plain": [
       "<Figure size 640x480 with 2 Axes>"
      ]
     },
     "metadata": {},
     "output_type": "display_data"
    }
   ],
   "source": [
    "def withoutPipeline():\n",
    "    trainDataset = \"Dataset/Train csv_version.csv\"\n",
    "    testDataset = \"Dataset/Test csv_version.csv\"\n",
    "    validDataset = \"Dataset/Valid csv_version.csv\"\n",
    "    \n",
    "    \n",
    "    x,y = datasetPrep(trainDataset)\n",
    "    xT, yT = datasetPrep(testDataset)\n",
    "    xV, yV = datasetPrep(validDataset)\n",
    "    \n",
    "    xTrainC, xTestC, xValidC = featureVectorizing(x, xT, xV)\n",
    "    \n",
    "    print(\"Multinomial Naive Bayes\")\n",
    "    modelNB = multiNBModel(xTrainC,y)\n",
    "    testModel(modelNB, xTestC, yT)\n",
    "    \n",
    "    print()\n",
    "    print(\"Linear SVM\")\n",
    "    modelSVM = svmModel(xTrainC, y)\n",
    "    testModel(modelSVM, xTestC, yT)\n",
    "    \n",
    "    print(\"svcSVM model without pipeline\")\n",
    "    model = svmSVCModel(xTrainC, y)\n",
    "    testModel(model, xTestC, yT)\n",
    "    \n",
    "    print(\"xgboost\")\n",
    "    model = xgBoostModel(xTrainC, y)\n",
    "    testModel(model, xTestC, yT)\n",
    "\n",
    "withoutPipeline()"
   ]
  },
  {
   "cell_type": "code",
   "execution_count": null,
   "id": "07575c5f-5894-492c-a3dd-acaa3508b150",
   "metadata": {
    "tags": []
   },
   "outputs": [],
   "source": [
    "def getData():\n",
    "    trainDataset = \"Dataset/Train csv_version.csv\"\n",
    "    testDataset = \"Dataset/Test csv_version.csv\"\n",
    "    validDataset = \"Dataset/Valid csv_version.csv\"\n",
    "    \n",
    "    x,y = datasetPrep(trainDataset)\n",
    "    xT, yT = datasetPrep(testDataset)\n",
    "    xV, yV = datasetPrep(validDataset)\n",
    "    \n",
    "    #x, xV, y, yV = train_test_split(x, y, test_size = 0.3, random_state=88)    \n",
    "    \n",
    "    return x,y,xT,yT,xV,yV\n",
    "    "
   ]
  },
  {
   "cell_type": "code",
   "execution_count": null,
   "id": "ea736950-16c2-465f-832a-57bd2914fb47",
   "metadata": {
    "tags": []
   },
   "outputs": [],
   "source": [
    "def nbPipeline():\n",
    "    pipeline = Pipeline([\n",
    "        ('vect', CountVectorizer()),\n",
    "        ('tfidf', TfidfTransformer()),\n",
    "        ('clf', MultinomialNB())\n",
    "])\n",
    "    return pipeline"
   ]
  },
  {
   "cell_type": "code",
   "execution_count": null,
   "id": "64e82a0e-65ea-45fd-91cb-290a2647d785",
   "metadata": {
    "tags": []
   },
   "outputs": [],
   "source": [
    "def svmPipeline():\n",
    "    pipeline = Pipeline([\n",
    "        ('vect', CountVectorizer()),\n",
    "        ('tfidf', TfidfTransformer()),\n",
    "        ('clf', SGDClassifier(loss='hinge', penalty='l2',alpha=1e-3, random_state=42,max_iter=5, tol=None))\n",
    "])\n",
    "    return pipeline"
   ]
  },
  {
   "cell_type": "code",
   "execution_count": null,
   "id": "7eeb8914-2bd6-49df-a628-bc458eddbd6d",
   "metadata": {
    "tags": []
   },
   "outputs": [],
   "source": [
    "def svmSvcPipeline():\n",
    "        pipeline = Pipeline([\n",
    "        ('vect', CountVectorizer()),\n",
    "        ('tfidf', TfidfTransformer()),\n",
    "        ('clf', SVC())\n",
    "])\n",
    "        return pipeline"
   ]
  },
  {
   "cell_type": "code",
   "execution_count": null,
   "id": "a3f1442e-3e55-4f98-8eb1-f4771406f38c",
   "metadata": {
    "tags": []
   },
   "outputs": [],
   "source": [
    "def decisionTreePipeline():\n",
    "    pipeline = pipeline = Pipeline([\n",
    "        ('vect', CountVectorizer()),\n",
    "        ('tfidf', TfidfTransformer()),\n",
    "        ('clf', DecisionTreeClassifier())\n",
    "    ])\n",
    "    return pipeline\n"
   ]
  },
  {
   "cell_type": "code",
   "execution_count": null,
   "id": "623bcffc-c9dc-44af-bdaa-28f77ad0f5cb",
   "metadata": {
    "tags": []
   },
   "outputs": [],
   "source": [
    "def randomForestPipeline():\n",
    "    pipeline = pipeline = Pipeline([\n",
    "        ('vect', CountVectorizer()),\n",
    "        ('tfidf', TfidfTransformer()),\n",
    "        ('clf', RandomForestClassifier())\n",
    "    ])\n",
    "    return pipeline"
   ]
  },
  {
   "cell_type": "code",
   "execution_count": null,
   "id": "e2540a8b-f5da-414d-bc97-e9c4676707af",
   "metadata": {
    "tags": []
   },
   "outputs": [],
   "source": [
    "def xgBoostPipeline():\n",
    "    pipeline = pipeline = Pipeline([\n",
    "        ('vect', CountVectorizer()),\n",
    "        ('tfidf', TfidfTransformer()),\n",
    "        ('clf', GradientBoostingClassifier(n_estimators=100, learning_rate=1.0,max_depth=1, random_state=0))\n",
    "    ])\n",
    "    return pipeline\n",
    "    "
   ]
  },
  {
   "cell_type": "code",
   "execution_count": null,
   "id": "d6e62f87-fd25-47b9-8fa4-0d752ccd4a81",
   "metadata": {
    "tags": []
   },
   "outputs": [],
   "source": [
    "def parameterTuning(model, x, y, parameters):\n",
    "    \n",
    "    # print(model.get_params())   \n",
    "    \n",
    "    gsModel = GridSearchCV(model, parameters, cv=10, n_jobs=-1)\n",
    "\n",
    "    gsModel.fit(x, y)\n",
    "    return gsModel\n"
   ]
  },
  {
   "cell_type": "code",
   "execution_count": null,
   "id": "c4642953-a41a-4aaf-8131-b4108f6b6441",
   "metadata": {
    "tags": []
   },
   "outputs": [],
   "source": [
    "def kfold(model, x, y):\n",
    "    kf = KFold(n_splits=10, random_state=1, shuffle=True)\n",
    "    scores = cross_val_score(model, x, y, cv=kf, scoring='accuracy')\n",
    "    print(\"%0.2f accuracy with a standard deviation of %0.2f\" % (scores.mean(), scores.std()))"
   ]
  },
  {
   "cell_type": "code",
   "execution_count": null,
   "id": "c97b1e5a-9625-4109-b6fc-e40e91c03007",
   "metadata": {
    "tags": []
   },
   "outputs": [],
   "source": [
    "def mnb(x,y,xT,yT,xV,yV):\n",
    "        \n",
    "    print(\"Multinomial Naive Bayes\")\n",
    "    nbModel = nbPipeline()\n",
    "    nbModel = nbModel.fit(x,y)\n",
    "    testModel(nbModel, xT, yT)\n",
    "            \n",
    "    mnbParameters = {\n",
    "        'vect__ngram_range': [(1, 1), (1, 2)],\n",
    "        'tfidf__use_idf': (True, False),\n",
    "        'clf__alpha': (1e-2, 1e-3)\n",
    "    }   \n",
    "\n",
    "    print()\n",
    "    print(\"MNB with Parameter Tuning\")\n",
    "    nbTuned = parameterTuning(nbModel, xV, yV, mnbParameters)\n",
    "    testModel(nbTuned, xT, yT)\n",
    "\n",
    "    print()\n",
    "    print(\"MNB with K-Fold Cross Validation\")\n",
    "    nbnewModel = nbPipeline()\n",
    "    kfold(nbnewModel, x, y)\n",
    "    \n",
    "x,y,xT,yT,xV,yV = getData()\n",
    "mnb(x,y,xT,yT,xV,yV)"
   ]
  },
  {
   "cell_type": "code",
   "execution_count": null,
   "id": "7689e395-5b35-4d50-bc57-62721470a63c",
   "metadata": {
    "tags": []
   },
   "outputs": [],
   "source": [
    "def svm(x,y,xT,yT,xV,yV):\n",
    "    \n",
    "    print()\n",
    "    print(\"Linear SVM\")\n",
    "    svmModel = svmPipeline()\n",
    "    svmModel = svmModel.fit(x,y)\n",
    "    testModel(svmModel, xT, yT)\n",
    "    \n",
    "    svmParameters = {\n",
    "        \"vect__max_df\": (0.2, 0.4, 0.6, 0.8, 1.0),\n",
    "        \"vect__min_df\": (1, 3, 5, 10),\n",
    "        \"vect__ngram_range\": ((1, 1), (1, 2)),  # unigrams or bigrams\n",
    "        \"tfidf__norm\": (\"l1\", \"l2\"),\n",
    "        \"clf__alpha\": np.logspace(-6, 6, 13),\n",
    "    }\n",
    "    \n",
    "    print()\n",
    "    print(\"Linear SVM with Parameter Tuning\")\n",
    "    svmTuned = parameterTuning(svmModel, xV, yV, svmParameters)\n",
    "    testModel(svmTuned, xT, yT)\n",
    "    \n",
    "    print()\n",
    "    print(\"Linear SVM with K-Fold Cross Validation\")\n",
    "    svmnewModel = svmPipeline()\n",
    "    kfold(svmnewModel, x, y)\n",
    "\n",
    "x,y,xT,yT,xV,yV = getData()\n",
    "svm(x,y,xT,yT,xV,yV)"
   ]
  },
  {
   "cell_type": "code",
   "execution_count": null,
   "id": "e323342f-f71f-4e80-9026-d0bff39f24da",
   "metadata": {
    "tags": []
   },
   "outputs": [],
   "source": [
    "def svmSvc(x,y,xT,yT,xV,yV):\n",
    "    \n",
    "    print()\n",
    "    print(\"SVM-SVC\")\n",
    "    svmSvcModel = svmSvcPipeline()\n",
    "    svmSvcModel = svmSvcModel.fit(x,y)\n",
    "    testModel(svmSvcModel, xT, yT)\n",
    "    \n",
    "    SvmSvcParameters = {\n",
    "        \"vect__max_df\": (0.2, 0.4, 0.6, 0.8, 1.0),\n",
    "        \"vect__min_df\": (1, 3, 5, 10),\n",
    "        \"vect__ngram_range\": ((1, 1), (1, 2)),  # unigrams or bigrams\n",
    "        \"tfidf__norm\": (\"l1\", \"l2\"),\n",
    "        'clf__C': [0.1, 1, 10, 100],\n",
    "        'clf__gamma': [0.01, 0.1, 1, 10],\n",
    "        'clf__kernel': ['rbf', 'linear', 'poly']}\n",
    "    \n",
    "    print()\n",
    "    print(\"SVM-SVC with parameter Tuning\")\n",
    "    svmSvcTuned = parameterTuning(svmSvcModel, xV, yV, SvmSvcParameters)\n",
    "    testModel(svmSvcTuned, xT, yT)\n",
    "\n",
    "x,y,xT,yT,xV,yV = getData()\n",
    "svmSvc(x,y,xT,yT,xV,yV)"
   ]
  },
  {
   "cell_type": "code",
   "execution_count": null,
   "id": "b49c8e09-9608-44e7-86ae-74f3828739b9",
   "metadata": {
    "tags": []
   },
   "outputs": [],
   "source": [
    "def decTree(x,y,xT,yT,xV,yV):\n",
    "    print()\n",
    "    print(\"Decision Tree\")\n",
    "    decsTreeModel = decisionTreePipeline()\n",
    "    decsTreeModel = decsTreeModel.fit(x,y)\n",
    "    testModel(decsTreeModel, xT, yT)\n",
    "\n",
    "x,y,xT,yT,xV,yV = getData()\n",
    "decTree(x,y,xT,yT,xV,yV)"
   ]
  },
  {
   "cell_type": "code",
   "execution_count": null,
   "id": "12df156c-2bd9-4347-8689-d68acd479142",
   "metadata": {
    "tags": []
   },
   "outputs": [],
   "source": [
    "def randForest(x,y,xT,yT,xV,yV):\n",
    "    print()\n",
    "    print(\"Random Forest\")\n",
    "    randForestModel = randomForestPipeline()\n",
    "    randForestModel = randForestModel.fit(x,y)\n",
    "    testModel(randForestModel, xT, yT)\n",
    "\n",
    "x,y,xT,yT,xV,yV = getData()\n",
    "randForest(x,y,xT,yT,xV,yV)"
   ]
  },
  {
   "cell_type": "code",
   "execution_count": null,
   "id": "65f20dec-51b0-4789-9c99-9ced43d44a73",
   "metadata": {},
   "outputs": [],
   "source": [
    "def xgboost(x,y,xT,yT,xV,yV):\n",
    "    print()\n",
    "    print(\"XGBoost\")\n",
    "    xgBoostModel = xgBoostPipeline()\n",
    "    xgBoostModel = xgBoostModel.fit(x,y)\n",
    "    testModel(xgBoostModel, xT, yT)\n",
    "\n",
    "x,y,xT,yT,xV,yV = getData()\n",
    "xgboost(x,y,xT,yT,xV,yV)"
   ]
  }
 ],
 "metadata": {
  "kernelspec": {
   "display_name": "Python 3 (ipykernel)",
   "language": "python",
   "name": "python3"
  },
  "language_info": {
   "codemirror_mode": {
    "name": "ipython",
    "version": 3
   },
   "file_extension": ".py",
   "mimetype": "text/x-python",
   "name": "python",
   "nbconvert_exporter": "python",
   "pygments_lexer": "ipython3",
   "version": "3.11.4"
  }
 },
 "nbformat": 4,
 "nbformat_minor": 5
}
