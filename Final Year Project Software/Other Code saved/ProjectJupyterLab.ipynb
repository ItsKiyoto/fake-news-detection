{
 "cells": [
  {
   "cell_type": "code",
   "execution_count": 4,
   "id": "be5a8e33-2f51-4eca-80a5-0d92d70edad8",
   "metadata": {
    "tags": []
   },
   "outputs": [],
   "source": [
    "from pandas import read_csv\n",
    "import matplotlib.pyplot as plt\n",
    "import numpy as np\n",
    "from sklearn.feature_extraction.text import CountVectorizer\n",
    "from sklearn.feature_extraction.text import TfidfTransformer\n",
    "from sklearn.pipeline import Pipeline\n",
    "from sklearn.compose import ColumnTransformer\n",
    "from sklearn.naive_bayes import MultinomialNB\n",
    "from sklearn.naive_bayes import GaussianNB\n",
    "from sklearn.metrics import classification_report, confusion_matrix\n",
    "from sklearn import svm\n",
    "from sklearn.linear_model import SGDClassifier\n",
    "from sklearn.model_selection import GridSearchCV\n",
    "from sklearn.model_selection import ParameterGrid\n",
    "from sklearn.model_selection import PredefinedSplit\n",
    "import numpy as np\n"
   ]
  },
  {
   "cell_type": "code",
   "execution_count": 3,
   "id": "4232b90b-7b68-445b-88ca-16bd9cd85313",
   "metadata": {
    "tags": []
   },
   "outputs": [],
   "source": [
    "def datasetPrep(dataset):\n",
    "    #pulls data from csv\n",
    "    df = read_csv(dataset, header=None)\n",
    "    \n",
    "    #add labels to all the columnns \n",
    "    df.columns = ['ID', \n",
    "                'Label',\n",
    "                'Statement',\n",
    "                'Subject',\n",
    "                'Speaker',\n",
    "                'Occupation',\n",
    "                'Location',\n",
    "                'Party',\n",
    "                'Barely True Counts',\n",
    "                'False Counts',\n",
    "                'Half True Counts',\n",
    "                'Mostly True Counts',\n",
    "                'Pants on Fire Counts',\n",
    "                'Context']\n",
    "    \n",
    "    #drops columns that are not helpful.\n",
    "    df = df.drop(['Location',\n",
    "                # 'Occupation',\n",
    "                'Barely True Counts',\n",
    "                'False Counts',\n",
    "                'Half True Counts',\n",
    "                'Mostly True Counts',\n",
    "                'Pants on Fire Counts'], axis=1)\n",
    "    \n",
    "    #drops rows that have been labeled \"half-true\"\n",
    "    df = df.drop(df[df['Label'] == 'half-true'].index)\n",
    "\n",
    "    #drops rows with information missing in columns\n",
    "    df = df.dropna()\n",
    "    \n",
    "    #drops rows with duplicates \n",
    "    df = df.drop_duplicates()  \n",
    "\n",
    "    X = df[['Statement',\n",
    "            'Subject',\n",
    "            'Speaker',\n",
    "            'Party',\n",
    "            'Occupation',\n",
    "            'Context'\n",
    "            ]]\n",
    "        \n",
    "    Y = df['Label']\n",
    "    X = X.astype(str)\n",
    "\n",
    "    # df['Combined Data'] = df['Statement'] + ' ' + df['Subject'] + ' ' + df['Speaker'] + ' ' + df['Party'] + ' ' + df['Occupation'] + ' ' + df['Context']\n",
    "    # X = df['Combined Data']\n",
    "\n",
    "    return X, Y "
   ]
  },
  {
   "cell_type": "code",
   "execution_count": 56,
   "id": "b04a336f-d7c3-49a2-bbc3-9367fce03dcc",
   "metadata": {
    "tags": []
   },
   "outputs": [],
   "source": [
    "def TwoClassConversion(outputs):\n",
    "    outputs = outputs.replace([\"barely-true\",\"pants-fire\"], \"FALSE\")\n",
    "    outputs = outputs.replace([\"mostly-true\"], \"TRUE\")\n",
    "    # outputs = outputs.replace([\"mostly-true\", \"half-true\"], \"TRUE\")\n",
    "    return outputs"
   ]
  },
  {
   "cell_type": "code",
   "execution_count": 4,
   "id": "cbb03fc1-14b6-408c-8a19-e6765af367b2",
   "metadata": {
    "tags": []
   },
   "outputs": [],
   "source": [
    "def gausNBFunct(x,y,testX,validX):\n",
    "    \n",
    "    count_vect = CountVectorizer()\n",
    "    xTrainCounts = count_vect.fit_transform(x)\n",
    "    tfTransformer = TfidfTransformer()\n",
    "    xTrainTF = tfTransformer.fit_transform(xTrainCounts)\n",
    "    \n",
    "    testXCount = count_vect.transform(testX)\n",
    "    testXTF = tfTransformer.transform(testXCount)\n",
    "    \n",
    "    validXCount = count_vect.transform(validX)\n",
    "    validXTF = tfTransformer.transform(validXCount)\n",
    "    \n",
    "    print(xTrainTF.shape)\n",
    "    gausNB = GaussianNB()\n",
    "    xClean = xTrainTF.toarray()\n",
    "    testXTF = testXTF.toarray()\n",
    "    validXTF = validXTF.toarray()\n",
    "\n",
    "    nbClf = gausNB.fit(xClean,y)\n",
    "\n",
    "    return nbClf, testXTF, validXTF\n",
    "    "
   ]
  },
  {
   "cell_type": "code",
   "execution_count": 10,
   "id": "ee766199-abbd-4913-ad36-50f44ae6e8e2",
   "metadata": {
    "tags": []
   },
   "outputs": [],
   "source": [
    "def nbModel(pipeline):\n",
    "    nbc = Pipeline([\n",
    "    (\"recombine\", pipeline),  \n",
    "    ('clf', MultinomialNB())])\n",
    "    # nbc.fit(x, y)\n",
    "    return nbc"
   ]
  },
  {
   "cell_type": "code",
   "execution_count": 11,
   "id": "347d68ad-3062-4771-93bb-a7891ca60406",
   "metadata": {
    "tags": []
   },
   "outputs": [],
   "source": [
    "def svmModel(pipeline):\n",
    "    svm = Pipeline([\n",
    "    (\"recombine\", pipeline),  \n",
    "    ('clf', SGDClassifier(loss = 'hinge', \n",
    "                          penalty='l2',\n",
    "                          alpha=1e-3, \n",
    "                          random_state=42,\n",
    "                          max_iter=5, \n",
    "                          tol=None))])\n",
    "    #svm.fit(x, y)\n",
    "    return svm"
   ]
  },
  {
   "cell_type": "code",
   "execution_count": 12,
   "id": "d40574b6-f582-40c6-9509-2ed51cefcca2",
   "metadata": {
    "tags": []
   },
   "outputs": [],
   "source": [
    "def svmSVCModel(pipeline):\n",
    "    svmSVC = Pipeline([\n",
    "        (\"recombine\", pipeline),\n",
    "        ('clf', svm.SVC())\n",
    "    ])\n",
    "    return svmSVC\n",
    "        "
   ]
  },
  {
   "cell_type": "code",
   "execution_count": 13,
   "id": "1b1fd656-757b-4024-8d5c-67f7545fa89f",
   "metadata": {
    "tags": []
   },
   "outputs": [],
   "source": [
    "def testModel(model, data, output):\n",
    "       \n",
    "    predicted = model.predict(data)\n",
    "    print(classification_report(output, predicted))\n",
    "    print(confusion_matrix(output, predicted))"
   ]
  },
  {
   "cell_type": "code",
   "execution_count": 14,
   "id": "ea5cacbb-a4a2-49d2-8fec-36cd607f1a06",
   "metadata": {
    "tags": []
   },
   "outputs": [],
   "source": [
    "def NBClassifying(trainDataset, testDataset, validDataset, parameters):\n",
    "    \n",
    "    x,y = datasetPrep(trainDataset)\n",
    "    y = TwoClassConversion(y)\n",
    "    \n",
    "    testx, testy = datasetPrep(testDataset)\n",
    "    testy = TwoClassConversion(testy)\n",
    "    \n",
    "    xValid,yValid = datasetPrep(validDataset)\n",
    "    yValid = TwoClassConversion(yValid)\n",
    "    \n",
    "    model, testx, xValid = testmethod(x,y,testx,xValid)\n",
    "\n",
    "    print(\"Default Parameters:\")\n",
    "    testModel(model,testx,testy)\n",
    "    \n",
    "    print()\n",
    "    print(\"Hyperparameters:\")\n",
    "    hyperParamTuningGridSearch(xValid,yValid,model,testx,testy,parameters)\n",
    "    \n",
    "#     pipeline = textVectorising()\n",
    "#     nbTempModel = nbModel(pipeline)\n",
    "#     nbTrainedModel = nbTempModel.fit(x,y)\n",
    "#     testModel(nbTrainedModel, testx, twoYTest)\n",
    "    \n"
   ]
  },
  {
   "cell_type": "code",
   "execution_count": 2,
   "id": "7f596b23-0f42-4384-bb16-68cd742314ca",
   "metadata": {
    "tags": []
   },
   "outputs": [],
   "source": [
    "def svmClassifying(trainDataset, testDataset, validDataset,parameters):\n",
    "    x,y = datasetPrep(trainDataset)\n",
    "    y = TwoClassConversion(y)\n",
    "    \n",
    "    testx, testy = datasetPrep(testDataset)\n",
    "    testy = TwoClassConversion(testy)\n",
    "    \n",
    "    xValid,yValid = datasetPrep(validDataset)\n",
    "    yValid = TwoClassConversion(yValid)\n",
    "    \n",
    "    # pipeline = textVectorising()\n",
    "    # svmTempModel = svmModel(pipeline)\n",
    "    \n",
    "    # svmTrainedModel = svmTempModel.fit(x,y)\n",
    "    \n",
    "    print(\"Regular:\")\n",
    "    \n",
    "    testModel(svmTrainedModel, testx, twoYTest)\n",
    "    \n",
    "\n",
    "    \n",
    "    print()\n",
    "    print(\"Hyperparameters:\")\n",
    "    hyperParamTuningGridSearch(xValid,yValid,svmTempModel,testx,testy,parameters)\n",
    "    "
   ]
  },
  {
   "cell_type": "code",
   "execution_count": 16,
   "id": "8ffbf24a-ed9f-4976-bd6d-2ef731956a29",
   "metadata": {
    "tags": []
   },
   "outputs": [],
   "source": [
    "def svmSVMClassifying(trainDataset, testDataset, validDataset, parameters):\n",
    "    x,y = datasetPrep(trainDataset)\n",
    "    y = TwoClassConversion(y)\n",
    "    \n",
    "    pipeline = textVectorising()\n",
    "    svmSVCTempModel = svmSVCModel(pipeline)\n",
    "    \n",
    "    svmSVCTrainedModel = svmSVCTempModel.fit(x,y)\n",
    "    \n",
    "    testx, testy = datasetPrep(testDataset)\n",
    "    \n",
    "    print(\"Regular:\")\n",
    "    twoYTest = TwoClassConversion(testy)\n",
    "    testModel(svmSVCTrainedModel, testx, twoYTest)\n",
    "    \n",
    "    xValid,yValid = datasetPrep(validDataset)\n",
    "    yValid = TwoClassConversion(yValid)\n",
    "    \n",
    "    print()\n",
    "    print(\"Hyperparameters:\")\n",
    "    hyperParamTuningGridSearch(xValid,yValid,svmSVCTempModel,testx,twoYTest,parameters)"
   ]
  },
  {
   "cell_type": "code",
   "execution_count": 17,
   "id": "e924d91d-df53-4427-bd73-6d4454ca5753",
   "metadata": {
    "tags": []
   },
   "outputs": [],
   "source": [
    "def hyperParamTuningGridSearch(x,y,text_clf,testX,testY,parameters):\n",
    "    \n",
    "    # print(text_clf.get_params().keys())\n",
    "        \n",
    "    # param_grid = { 'recombine__context__kernel': ['linear', 'rbf', 'poly'], 'recombine__context__C': [0.1, 1, 10]  }\n",
    "    \n",
    "    # parameters = {\n",
    "    #     'recombine__context__vect__ngram_range': [(1, 1), (1, 2)],\n",
    "    #     'recombine__context__tfidf__use_idf': (True, False),\n",
    "    #     'clf__alpha': (1e-2, 1e-3),\n",
    "    # }\n",
    " \n",
    "    \n",
    "    # parameters = list(ParameterGrid(param_grid))\n",
    "    # print(parameters)\n",
    "\n",
    "    # param_grid = param_grid,\n",
    "    \n",
    "    gsClf = GridSearchCV(text_clf, parameters, cv=5, n_jobs=-1 )\n",
    "    gsclf = gsClf.fit(x,y)\n",
    "    testModel(gsClf, testX, testY)\n",
    "    print(gsclf.best_params_)\n",
    "    "
   ]
  },
  {
   "cell_type": "code",
   "execution_count": 18,
   "id": "09e97bda-f8c1-4b13-9a9c-d522152955c9",
   "metadata": {
    "tags": []
   },
   "outputs": [],
   "source": [
    "def main():\n",
    "    trainDataset1 = \"Dataset/Train csv_version.csv\"\n",
    "    testDataset1 = \"Dataset/Test csv_version.csv\"\n",
    "    validDataset1 = \"Dataset/Valid csv_version.csv\"\n",
    "    \n",
    "    # nbParameters = {'clf__class_prior': [None, [0.1, 0.9], [0.3, 0.7], [0.5, 0.5], [0.7, 0.3], [0.9, 0.1]],\n",
    "    #                 'clf__fit_prior': [True, False]\n",
    "    #                }\n",
    "    \n",
    "    nbParameters = {'var_smoothing': np.logspace(0,-9, num=100)}\n",
    "\n",
    "#     nbParameters = {\n",
    "    \n",
    "#     \"recombine__context__vect__max_df\": (0.2, 0.4, 0.6, 0.8, 1.0),\n",
    "#     \"recombine__context__vect__min_df\": (1, 3, 5, 10),\n",
    "#     \"recombine__context__vect__ngram_range\": ((1, 1), (1, 2)),  # unigrams or bigrams\n",
    "#     \"recombine__context__tfidf__norm\": (\"l1\", \"l2\"),\n",
    "#     \"clf__alpha\": np.logspace(-6, 6, 13),\n",
    "#     }\n",
    "\n",
    "    # nbParameters = {\n",
    "    #      'vect__ngram_range': [(1, 1), (1, 2)],\n",
    "    #      'tfidf__use_idf': (True, False),\n",
    "    #      'clf__alpha': (1e-2, 1e-3),\n",
    "    # }\n",
    "\n",
    "    print(\"Naive bayes Results\")\n",
    "    NBClassifying(trainDataset1,testDataset1,validDataset1,nbParameters)\n",
    "    \n",
    "#     sgdParameters = {\n",
    "#     'clf__loss': ['hinge', 'log', 'modified_huber', 'perceptron'],\n",
    "#     'clf__alpha': [0.0001, 0.001, 0.01],\n",
    "#     'clf__penalty': ['l1', 'l2', 'elasticnet'],\n",
    "#     'clf__learning_rate': ['constant', 'optimal', 'invscaling', 'adaptive'],\n",
    "#     'clf__max_iter': [1000, 2000, 3000],\n",
    "#     'clf__tol': [1e-3, 1e-4, 1e-5],\n",
    "#     'clf__early_stopping': [True, False]\n",
    "# }\n",
    "    \n",
    "#     print()\n",
    "#     print('SVM Results')\n",
    "#     svmClassifying(trainDataset1,testDataset1,validDataset1,sgdParameters)\n",
    "    \n",
    "    \n",
    "#     svmSVCParameters = {\n",
    "#     'recombine__context__vect__ngram_range': [(1, 1), (1, 2)],\n",
    "#     'recombine__context__vect__max_df': [0.5, 0.75, 1.0],\n",
    "#     'recombine__context__tfidf__use_idf': [True, False],\n",
    "#     'recombine__context__tfidf__norm':['l1', 'l2', None],\n",
    "#     'clf__C': [0.1, 1, 10],\n",
    "#     'clf__kernel': ['linear', 'rbf']\n",
    "# }\n",
    "#     print()\n",
    "#     print('SVM SVC Results')\n",
    "#     svmSVMClassifying(trainDataset1,testDataset1,validDataset1,svmSVCParameters)\n",
    "    \n",
    "    \n",
    "# main()"
   ]
  },
  {
   "cell_type": "code",
   "execution_count": 59,
   "id": "47349c8a-ad48-4039-9ca7-d7b88b4bf17f",
   "metadata": {},
   "outputs": [],
   "source": [
    "def Stats(dataset, label):\n",
    "    data = TwoClassConversion(dataset)\n",
    "    results = data.to_numpy()\n",
    "    # print(results.shape)\n",
    "    # print(results[0:4])\n",
    "    y = np.array([0, 0])\n",
    "    mylabels = [\"TRUE\", \"FALSE\"]\n",
    "    for i in range(0,len(results)):\n",
    "        if results[i] == \"TRUE\":\n",
    "            y[0] += 1\n",
    "        elif results[i] == \"FALSE\":\n",
    "            y[1] += 1\n",
    "    print(\"true: \",y[0],\" false: \", y[1])\n",
    "    plt.pie(y, labels = mylabels)\n",
    "    plt.title(label)\n",
    "    plt.show()"
   ]
  },
  {
   "cell_type": "code",
   "execution_count": 60,
   "id": "dad96131-bf06-4d5f-99f1-7be3df2ceebb",
   "metadata": {},
   "outputs": [
    {
     "name": "stdout",
     "output_type": "stream",
     "text": [
      "true:  2718  false:  3055\n"
     ]
    },
    {
     "data": {
      "image/png": "[encoded data removed]",
      "text/plain": [
       "<Figure size 640x480 with 1 Axes>"
      ]
     },
     "metadata": {},
     "output_type": "display_data"
    },
    {
     "name": "stdout",
     "output_type": "stream",
     "text": [
      "true:  353  false:  389\n"
     ]
    },
    {
     "data": {
      "image/png": "[encoded data removed]",
      "text/plain": [
       "<Figure size 640x480 with 1 Axes>"
      ]
     },
     "metadata": {},
     "output_type": "display_data"
    },
    {
     "name": "stdout",
     "output_type": "stream",
     "text": [
      "true:  317  false:  429\n"
     ]
    },
    {
     "data": {
      "image/png": "[encoded data removed]",
      "text/plain": [
       "<Figure size 640x480 with 1 Axes>"
      ]
     },
     "metadata": {},
     "output_type": "display_data"
    }
   ],
   "source": [
    "def wtf():\n",
    "    x, y = datasetPrep(\"Dataset/Train csv_version.csv\")\n",
    "    Stats(y,\"train\")\n",
    "    \n",
    "    tx, ty = datasetPrep(\"Dataset/Test csv_version.csv\")\n",
    "    Stats(ty,\"Test\")\n",
    "    \n",
    "    vx, vy = datasetPrep(\"Dataset/Valid csv_version.csv\")\n",
    "    Stats(vy,\"train\")\n",
    "    \n",
    "wtf()"
   ]
  }
 ],
 "metadata": {
  "kernelspec": {
   "display_name": "Python 3 (ipykernel)",
   "language": "python",
   "name": "python3"
  },
  "language_info": {
   "codemirror_mode": {
    "name": "ipython",
    "version": 3
   },
   "file_extension": ".py",
   "mimetype": "text/x-python",
   "name": "python",
   "nbconvert_exporter": "python",
   "pygments_lexer": "ipython3",
   "version": "3.11.4"
  }
 },
 "nbformat": 4,
 "nbformat_minor": 5
}
